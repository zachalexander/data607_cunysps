{
 "cells": [
  {
   "cell_type": "code",
   "execution_count": 424,
   "metadata": {
    "collapsed": true
   },
   "outputs": [],
   "source": [
    "# libraries used\n",
    "import requests\n",
    "import pandas as pd\n",
    "import json\n",
    "import numpy as np\n",
    "from itertools import chain"
   ]
  },
  {
   "cell_type": "code",
   "execution_count": 425,
   "metadata": {
    "collapsed": true
   },
   "outputs": [],
   "source": [
    "# get request to the New York Times API\n",
    "response = requests.get(\"https://api.nytimes.com/svc/news/v3/content/all/all.json?api-key=SoV2EDJdCsYfjVcQeelgFOdkaAlJtPts\")"
   ]
  },
  {
   "cell_type": "code",
   "execution_count": 426,
   "metadata": {
    "collapsed": false
   },
   "outputs": [],
   "source": [
    "# saving the json file as a pandas data frame\n",
    "nyTimesData = pd.DataFrame(response.json())"
   ]
  },
  {
   "cell_type": "code",
   "execution_count": 427,
   "metadata": {
    "collapsed": false
   },
   "outputs": [],
   "source": [
    "# decided to parse the json a bit more to isolate certain pieces of data, saved them to lists for future use\n",
    "\n",
    "# creating empty lists\n",
    "abstracts = []\n",
    "titles = []\n",
    "sections = []\n",
    "dt_published = []\n",
    "urls = []\n",
    "\n",
    "# using a for loop to append all corresponding elements to the empty lists above\n",
    "for index, row in nyTimesData.iterrows() :\n",
    "    titles.append([row['results']['title']])\n",
    "\n",
    "for index, row in nyTimesData.iterrows() :\n",
    "    abstracts.append([row['results']['abstract']])\n",
    "\n",
    "for index, row in nyTimesData.iterrows() :\n",
    "    sections.append([row['results']['section']])\n",
    "    \n",
    "for index, row in nyTimesData.iterrows() :\n",
    "    dt_published.append([row['results']['published_date']])\n",
    "    \n",
    "for index, row in nyTimesData.iterrows() :\n",
    "    urls.append([row['results']['url']])\n",
    "    \n",
    "# turning individual lists into one big list in order to make a column later    \n",
    "abstracts = list(chain(*abstracts))\n",
    "sections = list(chain(*sections))\n",
    "titles = list(chain(*titles))\n",
    "dt_published = list(chain(*dt_published))\n",
    "urls = list(chain(*urls))\n",
    "\n",
    "# 'zipping' the lists in order to create proper format for data frame in next step\n",
    "zipped_list = list(zip(titles, abstracts, sections, dt_published, urls))\n",
    "    "
   ]
  },
  {
   "cell_type": "code",
   "execution_count": 428,
   "metadata": {
    "collapsed": false
   },
   "outputs": [
    {
     "name": "stdout",
     "output_type": "stream",
     "text": [
      "                                                Title  \\\n",
      "0   Mimicking Local News, a Network of Michigan We...   \n",
      "1   Two UConn Students Arrested After Repeatedly S...   \n",
      "2   Wasn’t Japan’s Emperor Just Enthroned? The Rea...   \n",
      "3   ‘Star Wars: The Rise of Skywalker’: The Final ...   \n",
      "4                                     On Eton College   \n",
      "5   $27 Million for Reparations Over Slave Ties Pl...   \n",
      "6   Review: In ‘Power Strip,’ a Syrian Story Both ...   \n",
      "7   For Trump the Dealmaker, Troop Pullouts Withou...   \n",
      "8   Fired for Repeating Racist Slur, School Guard ...   \n",
      "9                                    But Her Emails …   \n",
      "10            1, 2, 3, 4, Trump Can’t Rule Us Anymore   \n",
      "11  A Reporter Walked Into a Prison Full of ISIS D...   \n",
      "12  Trump Running Out of Options for Homeland Secu...   \n",
      "13                    The Unraveling of Mick Mulvaney   \n",
      "14  Boeing’s Crisis Grows: Tense Meetings, Falling...   \n",
      "15             The ‘Aura of Altuve’ Powers the Astros   \n",
      "16  The Loudest Bird in the World Has a Song Like ...   \n",
      "17                     H.B.C.U.s’ Sink-or-Swim Moment   \n",
      "18      What It Looks Like as U.S. Troops Leave Syria   \n",
      "19  A New Top Editor Takes the Hot Seat at Harper’...   \n",
      "\n",
      "                                             Abstract             Section  \\\n",
      "0   Nearly 40 websites that look like local news o...                U.S.   \n",
      "1   A video of the episode on Oct. 11 was widely s...                U.S.   \n",
      "2   Naruhito will formally declare his ascension t...               World   \n",
      "3   With Daisy Ridley, Adam Driver, Oscar Isaac an...              Movies   \n",
      "4   Saul Pink makes his debut in the New York Time...  Crosswords & Games   \n",
      "5   The Princeton Theological Seminary said it was...            New York   \n",
      "6   Sylvia Khoury’s insidiously sharp new play arr...             Theater   \n",
      "7   The president has sought to scale back America...                U.S.   \n",
      "8   A student directed the slur at Marlon Anderson...                U.S.   \n",
      "9   A three-year investigation finds no criminal w...             Opinion   \n",
      "10  With impeachment looming, it’s time to take to...             Opinion   \n",
      "11  Don’t worry. None of them were killers. Or so ...               World   \n",
      "12  Two of the president’s potential picks have be...                U.S.   \n",
      "13  The White House chief of staff, still “acting”...             Opinion   \n",
      "14  The crash of two 737 Max jets has thrown the c...            Business   \n",
      "15  Jose Altuve’s Game 6 homer not only sent Houst...              Sports   \n",
      "16  When a mate approaches a male white bellbird i...             Science   \n",
      "17  These storied schools are largely responsible ...             Opinion   \n",
      "18  Residents throwing vegetables at American troo...               World   \n",
      "19  Christopher Beha, a novelist and journalist, r...            Business   \n",
      "\n",
      "               Date Published  \\\n",
      "0   2019-10-21T23:26:02-04:00   \n",
      "1   2019-10-21T22:54:22-04:00   \n",
      "2   2019-10-21T22:41:56-04:00   \n",
      "3   2019-10-21T22:39:22-04:00   \n",
      "4   2019-10-21T22:00:02-04:00   \n",
      "5   2019-10-21T21:52:11-04:00   \n",
      "6   2019-10-21T21:45:12-04:00   \n",
      "7   2019-10-21T20:47:50-04:00   \n",
      "8   2019-10-21T20:44:01-04:00   \n",
      "9   2019-10-21T20:37:06-04:00   \n",
      "10  2019-10-21T20:13:08-04:00   \n",
      "11  2019-10-21T19:55:55-04:00   \n",
      "12  2019-10-21T19:54:21-04:00   \n",
      "13  2019-10-21T19:50:33-04:00   \n",
      "14  2019-10-21T19:48:14-04:00   \n",
      "15  2019-10-21T19:43:56-04:00   \n",
      "16  2019-10-21T19:36:01-04:00   \n",
      "17  2019-10-21T19:19:43-04:00   \n",
      "18  2019-10-21T19:16:13-04:00   \n",
      "19  2019-10-21T18:59:29-04:00   \n",
      "\n",
      "                                                  Url  \n",
      "0   https://www.nytimes.com/2019/10/21/us/michigan...  \n",
      "1   https://www.nytimes.com/2019/10/21/us/UConn-ra...  \n",
      "2   https://www.nytimes.com/2019/10/21/world/asia/...  \n",
      "3   https://www.nytimes.com/2019/10/21/movies/star...  \n",
      "4   https://www.nytimes.com/2019/10/21/crosswords/...  \n",
      "5   https://www.nytimes.com/2019/10/21/nyregion/pr...  \n",
      "6   https://www.nytimes.com/2019/10/21/theater/pow...  \n",
      "7   https://www.nytimes.com/2019/10/21/us/politics...  \n",
      "8   https://www.nytimes.com/2019/10/21/us/wisconsi...  \n",
      "9   https://www.nytimes.com/2019/10/21/opinion/tru...  \n",
      "10  https://www.nytimes.com/2019/10/21/opinion/tru...  \n",
      "11  https://www.nytimes.com/2019/10/21/world/middl...  \n",
      "12  https://www.nytimes.com/2019/10/21/us/politics...  \n",
      "13  https://www.nytimes.com/2019/10/21/opinion/mic...  \n",
      "14  https://www.nytimes.com/2019/10/21/business/bo...  \n",
      "15  https://www.nytimes.com/2019/10/21/sports/base...  \n",
      "16  https://www.nytimes.com/2019/10/21/science/lou...  \n",
      "17  https://www.nytimes.com/2019/10/21/opinion/hbc...  \n",
      "18  https://www.nytimes.com/video/world/middleeast...  \n",
      "19  https://www.nytimes.com/2019/10/21/business/me...  \n"
     ]
    }
   ],
   "source": [
    "# loading the cleaned data into a final pandas data frame\n",
    "final_df = pd.DataFrame(zipped_list, columns = ['Title','Abstract', 'Section', 'Date Published', 'Url'])\n",
    "\n",
    "print(final_df)"
   ]
  },
  {
   "cell_type": "code",
   "execution_count": 429,
   "metadata": {
    "collapsed": false
   },
   "outputs": [],
   "source": [
    "# saving it to a csv file\n",
    "final_df.to_csv('~/Desktop/test.csv', header=True, index=False, encoding='utf-8')"
   ]
  }
 ],
 "metadata": {
  "anaconda-cloud": {},
  "kernelspec": {
   "display_name": "Python [default]",
   "language": "python",
   "name": "python2"
  },
  "language_info": {
   "codemirror_mode": {
    "name": "ipython",
    "version": 2
   },
   "file_extension": ".py",
   "mimetype": "text/x-python",
   "name": "python",
   "nbconvert_exporter": "python",
   "pygments_lexer": "ipython2",
   "version": "2.7.12"
  }
 },
 "nbformat": 4,
 "nbformat_minor": 1
}
