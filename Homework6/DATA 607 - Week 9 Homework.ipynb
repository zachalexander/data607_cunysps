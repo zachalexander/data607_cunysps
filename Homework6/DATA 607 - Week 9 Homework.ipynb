{
 "cells": [
  {
   "cell_type": "markdown",
   "metadata": {},
   "source": [
    "## DATA 607 - Python version of week 9 Assignment (Zach Alexander)"
   ]
  },
  {
   "cell_type": "code",
   "execution_count": 133,
   "metadata": {
    "collapsed": true
   },
   "outputs": [],
   "source": [
    "# libraries used\n",
    "import requests\n",
    "import pandas as pd\n",
    "import numpy as np\n",
    "from itertools import chain\n",
    "import json"
   ]
  },
  {
   "cell_type": "code",
   "execution_count": 134,
   "metadata": {},
   "outputs": [],
   "source": [
    "# get request to the New York Times API\n",
    "response = requests.get(\"https://api.nytimes.com/svc/news/v3/content/all/all.json?api-key=SoV2EDJdCsYfjVcQeelgFOdkaAlJtPts\")"
   ]
  },
  {
   "cell_type": "code",
   "execution_count": 135,
   "metadata": {},
   "outputs": [],
   "source": [
    "# saving the json file as a pandas data frame\n",
    "nyTimesData = pd.DataFrame(response.json())"
   ]
  },
  {
   "cell_type": "code",
   "execution_count": 136,
   "metadata": {},
   "outputs": [],
   "source": [
    "# decided to parse the json a bit more to isolate certain pieces of data, saved them to lists for future use\n",
    "# creating empty lists\n",
    "\n",
    "abstracts = []\n",
    "titles = []\n",
    "sections = []\n",
    "dt_published = []\n",
    "urls = []\n",
    "\n",
    "# using a for loop to append all corresponding elements to the empty lists above\n",
    "for index, row in nyTimesData.iterrows() :\n",
    "     titles.append([row['results']['title']])\n",
    "\n",
    "for index, row in nyTimesData.iterrows() :\n",
    "    abstracts.append([row['results']['abstract']])\n",
    "\n",
    "for index, row in nyTimesData.iterrows() :\n",
    "    sections.append([row['results']['section']])\n",
    "    \n",
    "for index, row in nyTimesData.iterrows() :\n",
    "    dt_published.append([row['results']['published_date']])\n",
    "    \n",
    "for index, row in nyTimesData.iterrows() :\n",
    "    urls.append([row['results']['url']])\n",
    "    \n",
    "# turning individual lists into one big list in order to make a column later    \n",
    "abstracts = list(chain(*abstracts))\n",
    "sections = list(chain(*sections))\n",
    "titles = list(chain(*titles))\n",
    "dt_published = list(chain(*dt_published))\n",
    "urls = list(chain(*urls))\n",
    "\n",
    "# 'zipping' the lists in order to create proper format for data frame in next step\n",
    "zipped_list = list(zip(titles, abstracts, sections, dt_published, urls))\n",
    "    "
   ]
  },
  {
   "cell_type": "code",
   "execution_count": 137,
   "metadata": {},
   "outputs": [
    {
     "name": "stdout",
     "output_type": "stream",
     "text": [
      "                                                Title  \\\n",
      "0   Top Boeing Executive Expected to Leave as 737 ...   \n",
      "1           To Treat Chronic Ailments, Fix Diet First   \n",
      "2                        Trump Is Tracking Your Phone   \n",
      "3                Don’t Ask Me About My Salary History   \n",
      "4        Oscar Wao Takes His Superpowers to the Stage   \n",
      "5   Ukraine Envoy Testifies Trump Linked Military ...   \n",
      "6   Retiring From Ballet Theater, a Dancer Gets Wh...   \n",
      "7   Boris Johnson Loses a Critical Brexit Vote, Th...   \n",
      "8   Supreme Court Lets Climate Change Lawsuit Proceed   \n",
      "9   Foals Are Writing the Soundtrack to an Apocalypse   \n",
      "10  Lori Loughlin and Other Parents Face New Charg...   \n",
      "11  Raymond Leppard, Versatile Maestro Who Led Bar...   \n",
      "12  Trudeau Re-election Reveals Intensified Divisi...   \n",
      "13                 Should Men Become More Like Women?   \n",
      "14  New & Noteworthy, From Ghost Stories to Essays...   \n",
      "15  Who Drank the Kool-Aid? How Children Get Hooke...   \n",
      "16  Trump Administration Moves to Lift Protections...   \n",
      "17  Shooting Near School in Santa Rosa, California...   \n",
      "18  Seattle Chefs Anchor Restaurants at New Nordst...   \n",
      "19                   Los peligros de vapear marihuana   \n",
      "\n",
      "                                             Abstract     Section  \\\n",
      "0   Kevin McAllister, the head of Boeing commercia...    Business   \n",
      "1   For many patients, the right food may be the b...     Opinion   \n",
      "2   Privacy is a 2020 issue, even if the campaigns...     Opinion   \n",
      "3   New laws aimed at closing the wage gap make th...        U.S.   \n",
      "4   Presenting a version of Junot Díaz’s prizewinn...     Theater   \n",
      "5   In closed-door testimony, a Democratic lawmake...        U.S.   \n",
      "6   After 15 years, Melanie Hamrick, a ravishing m...        Arts   \n",
      "7   Lawmakers voted down a measure to compress the...       World   \n",
      "8   The court’s brief order addressed a threshold ...        U.S.   \n",
      "9   The English rock band captures “the insecuriti...        Arts   \n",
      "10  Prosecutors added bribery counts against some ...        U.S.   \n",
      "11  After beginning as a 17th-century specialist, ...        Arts   \n",
      "12  An urban vs. rural split, along with increasin...       World   \n",
      "13  Readers react to a Sunday Review essay that sa...     Opinion   \n",
      "14  A selection of recent books of interest; plus,...       Books   \n",
      "15  Misleading marketing and labeling may confuse ...      Health   \n",
      "16  The Trump administration eased protections on ...     Climate   \n",
      "17  A suspect was detained after the shooting outs...        U.S.   \n",
      "18  Southern Italian seafood from John DeLucie, th...        Food   \n",
      "19  La tecnología promovida para ayudar a los fuma...  en Español   \n",
      "\n",
      "               Date Published  \\\n",
      "0   2019-10-22T15:00:34-04:00   \n",
      "1   2019-10-22T15:00:09-04:00   \n",
      "2   2019-10-22T15:00:05-04:00   \n",
      "3   2019-10-22T14:54:57-04:00   \n",
      "4   2019-10-22T14:46:05-04:00   \n",
      "5   2019-10-22T14:41:57-04:00   \n",
      "6   2019-10-22T14:34:41-04:00   \n",
      "7   2019-10-22T14:33:01-04:00   \n",
      "8   2019-10-22T14:17:47-04:00   \n",
      "9   2019-10-22T14:11:52-04:00   \n",
      "10  2019-10-22T14:10:31-04:00   \n",
      "11  2019-10-22T14:09:04-04:00   \n",
      "12  2019-10-22T14:00:48-04:00   \n",
      "13  2019-10-22T13:55:05-04:00   \n",
      "14  2019-10-22T13:53:59-04:00   \n",
      "15  2019-10-22T13:39:18-04:00   \n",
      "16  2019-10-22T13:39:12-04:00   \n",
      "17  2019-10-22T13:29:13-04:00   \n",
      "18  2019-10-22T13:22:43-04:00   \n",
      "19  2019-10-22T13:16:24-04:00   \n",
      "\n",
      "                                                  Url  \n",
      "0   https://www.nytimes.com/2019/10/22/business/bo...  \n",
      "1   https://www.nytimes.com/2019/10/22/opinion/chr...  \n",
      "2   https://www.nytimes.com/2019/10/22/opinion/tru...  \n",
      "3   https://www.nytimes.com/2019/10/22/us/dont-ask...  \n",
      "4   https://www.nytimes.com/2019/10/22/theater/osc...  \n",
      "5   https://www.nytimes.com/2019/10/22/us/trump-im...  \n",
      "6   https://www.nytimes.com/2019/10/22/arts/dance/...  \n",
      "7   https://www.nytimes.com/2019/10/22/world/brexi...  \n",
      "8   https://www.nytimes.com/2019/10/22/us/supreme-...  \n",
      "9   https://www.nytimes.com/2019/10/22/arts/music/...  \n",
      "10  https://www.nytimes.com/2019/10/22/us/lori-lou...  \n",
      "11  https://www.nytimes.com/2019/10/22/arts/music/...  \n",
      "12  https://www.nytimes.com/2019/10/22/world/canad...  \n",
      "13  https://www.nytimes.com/2019/10/22/opinion/let...  \n",
      "14  https://www.nytimes.com/2019/10/22/books/revie...  \n",
      "15  https://www.nytimes.com/2019/10/22/health/drin...  \n",
      "16  https://www.nytimes.com/2019/10/22/climate/tru...  \n",
      "17  https://www.nytimes.com/2019/10/22/us/santa-ro...  \n",
      "18  https://www.nytimes.com/2019/10/22/dining/nyc-...  \n",
      "19  https://www.nytimes.com/es/2019/10/22/espanol/...  \n"
     ]
    }
   ],
   "source": [
    "# loading the cleaned data into a final pandas data frame\n",
    "final_df = pd.DataFrame(zipped_list, columns = ['Title','Abstract', 'Section', 'Date Published', 'Url'])\n",
    "\n",
    "print(final_df)"
   ]
  },
  {
   "cell_type": "code",
   "execution_count": 138,
   "metadata": {},
   "outputs": [],
   "source": [
    "# saving it to a csv file\n",
    "# final_df.to_csv('~/Desktop/test.csv', header=True, index=False, encoding='utf-8')"
   ]
  }
 ],
 "metadata": {
  "anaconda-cloud": {},
  "kernelspec": {
   "display_name": "Python 3",
   "language": "python",
   "name": "python3"
  },
  "language_info": {
   "codemirror_mode": {
    "name": "ipython",
    "version": 3
   },
   "file_extension": ".py",
   "mimetype": "text/x-python",
   "name": "python",
   "nbconvert_exporter": "python",
   "pygments_lexer": "ipython3",
   "version": "3.7.1"
  }
 },
 "nbformat": 4,
 "nbformat_minor": 1
}
